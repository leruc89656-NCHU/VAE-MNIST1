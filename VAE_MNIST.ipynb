{
  "nbformat": 4,
  "nbformat_minor": 0,
  "metadata": {
    "colab": {
      "provenance": [],
      "gpuType": "T4",
      "include_colab_link": true
    },
    "kernelspec": {
      "name": "python3",
      "display_name": "Python 3"
    },
    "language_info": {
      "name": "python"
    },
    "accelerator": "GPU"
  },
  "cells": [
    {
      "cell_type": "markdown",
      "metadata": {
        "id": "view-in-github",
        "colab_type": "text"
      },
      "source": [
        "<a href=\"https://colab.research.google.com/github/leruc89656-NCHU/VAE-MNIST1/blob/main/VAE_MNIST.ipynb\" target=\"_parent\"><img src=\"https://colab.research.google.com/assets/colab-badge.svg\" alt=\"Open In Colab\"/></a>"
      ]
    },
    {
      "cell_type": "code",
      "execution_count": 2,
      "metadata": {
        "id": "7J5SPBPExugp"
      },
      "outputs": [],
      "source": [
        "import torch"
      ]
    },
    {
      "cell_type": "code",
      "source": [
        "from google.colab import drive\n",
        "drive.mount('/content/drive')"
      ],
      "metadata": {
        "colab": {
          "base_uri": "https://localhost:8080/"
        },
        "id": "ptP2TxO3gYCf",
        "outputId": "7aa0db38-143f-4e50-ada4-cca7741c4063"
      },
      "execution_count": 1,
      "outputs": [
        {
          "output_type": "stream",
          "name": "stdout",
          "text": [
            "Mounted at /content/drive\n"
          ]
        }
      ]
    },
    {
      "cell_type": "code",
      "source": [
        "print(\"Python 版本: \", torch.__version__)\n",
        "print(\"GPU 是否可用: \", torch.cuda.is_available())"
      ],
      "metadata": {
        "colab": {
          "base_uri": "https://localhost:8080/"
        },
        "id": "iiaVsHHEyUlJ",
        "outputId": "84304265-c3dc-43e7-88c5-92e26625ebc9"
      },
      "execution_count": 3,
      "outputs": [
        {
          "output_type": "stream",
          "name": "stdout",
          "text": [
            "Python 版本:  2.8.0+cu126\n",
            "GPU 是否可用:  True\n"
          ]
        }
      ]
    },
    {
      "cell_type": "code",
      "source": [
        "import os, gzip\n",
        "import numpy as np\n",
        "import torch.nn as nn\n",
        "import torch.optim as optim\n",
        "from torch.utils.data import DataLoader, TensorDataset\n",
        "import matplotlib.pyplot as plt"
      ],
      "metadata": {
        "id": "oyrfskrKyrXL"
      },
      "execution_count": 4,
      "outputs": []
    },
    {
      "cell_type": "code",
      "source": [
        "os.environ[\"KMP_DUPLICATE_LIB_OK\"] = \"TRUE\"  # 解決 OpenMP 警告\n",
        "device = torch.device(\"cuda\" if torch.cuda.is_available() else \"cpu\")"
      ],
      "metadata": {
        "id": "0cdArWQ6BO4j"
      },
      "execution_count": 5,
      "outputs": []
    },
    {
      "cell_type": "code",
      "source": [
        "#讀取影像檔案\n",
        "def load_mnist_images(filename):\n",
        "    with gzip.open(filename, 'rb') as f:\n",
        "        f.read(16)\n",
        "        buf = f.read()\n",
        "        data = np.frombuffer(buf, dtype=np.uint8).astype(np.float32)\n",
        "        return data.reshape(-1, 28, 28) / 255.0"
      ],
      "metadata": {
        "id": "f2DoBcB721Mp"
      },
      "execution_count": 6,
      "outputs": []
    },
    {
      "cell_type": "code",
      "source": [
        "#讀取標籤檔案\n",
        "def load_mnist_labels(filename):\n",
        "  with gzip.open(filename, 'rb') as f:\n",
        "    f.read(8)\n",
        "    buf = f.read()\n",
        "    labels = np.frombuffer(buf, dtype=np.uint8).astype(np.int64)\n",
        "    return labels"
      ],
      "metadata": {
        "id": "zT9qdddX4pkl"
      },
      "execution_count": 7,
      "outputs": []
    },
    {
      "cell_type": "code",
      "source": [
        "train_images = load_mnist_images('/content/drive/MyDrive/DeepGenerativeModel/train-images-idx3-ubyte.gz')\n",
        "train_labels = load_mnist_labels('/content/drive/MyDrive/DeepGenerativeModel/train-labels-idx1-ubyte.gz')\n",
        "test_images = load_mnist_images('/content/drive/MyDrive/DeepGenerativeModel/t10k-images-idx3-ubyte.gz')\n",
        "test_labels = load_mnist_labels('/content/drive/MyDrive/DeepGenerativeModel/t10k-labels-idx1-ubyte.gz')"
      ],
      "metadata": {
        "id": "ClSJpp5P5wK1"
      },
      "execution_count": 8,
      "outputs": []
    },
    {
      "cell_type": "code",
      "source": [
        "train_dataset = TensorDataset(torch.tensor(train_images).view(-1, 784), torch.tensor(train_labels))\n",
        "test_dataset = TensorDataset(torch.tensor(test_images).view(-1, 784), torch.tensor(test_labels))\n",
        "\n",
        "train_loader = DataLoader(train_dataset, batch_size=128, shuffle=True)\n",
        "test_loader = DataLoader(test_dataset, batch_size=128, shuffle=False)"
      ],
      "metadata": {
        "id": "T8a43rezD3xi"
      },
      "execution_count": 9,
      "outputs": []
    },
    {
      "cell_type": "code",
      "source": [
        "class VAE(nn.Module):\n",
        "  def __init__(self, input_dim=784, hidden_dim=400, latent_dim=20):\n",
        "    super(VAE, self).__init__()\n",
        "    self.fc1 = nn.Linear(input_dim, hidden_dim)\n",
        "    self.fc_mu = nn.Linear(hidden_dim, latent_dim)\n",
        "    self.fc_logvar = nn.Linear(hidden_dim, latent_dim)\n",
        "    self.fc_dec1 = nn.Linear(latent_dim, hidden_dim)\n",
        "    self.fc_dec2 = nn.Linear(hidden_dim, input_dim)\n",
        "\n",
        "  def encode(self, x):\n",
        "    h = torch.relu(self.fc1(x))\n",
        "    return self.fc_mu(h), self.fc_logvar(h)\n",
        "\n",
        "  def reparameterize(self, mu, logvar):\n",
        "    std = torch.exp(0.5*logvar)\n",
        "    eps = torch.randn_like(std)\n",
        "    return mu + eps * std\n",
        "\n",
        "  def decode(self, z):\n",
        "    h = torch.relu(self.fc_dec1(z))\n",
        "    return torch.sigmoid(self.fc_dec2(h))\n",
        "\n",
        "  def forward(self, x):\n",
        "    mu, logvar = self.encode(x)\n",
        "    z = self.reparameterize(mu, logvar)\n",
        "    return self.decode(z), mu, logvar"
      ],
      "metadata": {
        "id": "o0knLCSyF-eu"
      },
      "execution_count": 10,
      "outputs": []
    },
    {
      "cell_type": "code",
      "source": [
        "def loss_function(recon_x, x, mu, logvar):\n",
        "  BCE = nn.functional.binary_cross_entropy(recon_x, x, reduction='sum')\n",
        "  KLD = -0.5 * torch.sum(1 + logvar - mu.pow(2) - logvar.exp())\n",
        "  return BCE + KLD\n",
        "\n",
        "model = VAE().to(device)\n",
        "optimizer = optim.Adam(model.parameters(), lr=1e-3)\n",
        "\n",
        "epochs = 10\n",
        "for epoch in range(1, epochs+1):\n",
        "  model.train()\n",
        "  train_loss = 0\n",
        "  for data, _ in train_loader:\n",
        "    data = data.to(device)\n",
        "    optimizer.zero_grad()\n",
        "    recon_batch, mu, logvar = model(data)\n",
        "    loss = loss_function(recon_batch, data, mu, logvar)\n",
        "    loss.backward()\n",
        "    train_loss += loss.item()\n",
        "    optimizer.step()\n",
        "  print(f'Epoch {epoch} Average loss: {train_loss / len(train_loader.dataset):.4f}')"
      ],
      "metadata": {
        "colab": {
          "base_uri": "https://localhost:8080/"
        },
        "id": "MXRcDSwJK47V",
        "outputId": "bba5f3e3-6461-4404-842d-af2cdd7c3d97"
      },
      "execution_count": 11,
      "outputs": [
        {
          "output_type": "stream",
          "name": "stdout",
          "text": [
            "Epoch 1 Average loss: 164.9762\n",
            "Epoch 2 Average loss: 121.8184\n",
            "Epoch 3 Average loss: 114.8711\n",
            "Epoch 4 Average loss: 111.7112\n",
            "Epoch 5 Average loss: 109.8133\n",
            "Epoch 6 Average loss: 108.6850\n",
            "Epoch 7 Average loss: 107.7929\n",
            "Epoch 8 Average loss: 107.1641\n",
            "Epoch 9 Average loss: 106.6435\n",
            "Epoch 10 Average loss: 106.2242\n"
          ]
        }
      ]
    },
    {
      "cell_type": "code",
      "source": [
        "model.eval()\n",
        "with torch.no_grad():\n",
        "  batch, _ = next(iter(test_loader))\n",
        "  batch = batch.to(device)\n",
        "  recon, _, _ = model(batch)\n",
        "  recon = recon.view(-1, 28, 28).cpu().numpy()\n",
        "  originals = batch.view(-1, 28, 28).cpu().numpy()\n",
        "\n",
        "# 顯示前 10 張原始影像和重建影像\n",
        "fig, axes = plt.subplots(2, 10, figsize=(15, 3))\n",
        "for i in range(10):\n",
        "    axes[0, i].imshow(originals[i], cmap='gray')\n",
        "    axes[0, i].set_title(f'Original {i}')\n",
        "    axes[0, i].axis('off')\n",
        "\n",
        "    axes[1, i].imshow(recon[i], cmap='gray')\n",
        "    axes[1, i].set_title(f'Recon {i}')\n",
        "    axes[1, i].axis('off')\n",
        "\n",
        "plt.tight_layout()\n",
        "plt.show()"
      ],
      "metadata": {
        "colab": {
          "base_uri": "https://localhost:8080/",
          "height": 310
        },
        "id": "BUGyArcsNSpk",
        "outputId": "bf2cb8ad-0e63-482a-c1cc-81932dd2c0f6"
      },
      "execution_count": 12,
      "outputs": [
        {
          "output_type": "display_data",
          "data": {
            "text/plain": [
              "<Figure size 1500x300 with 20 Axes>"
            ],
            "image/png": "[encoded data removed]"
          },
          "metadata": {}
        }
      ]
    }
  ]
}